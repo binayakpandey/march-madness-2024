{
 "cells": [
  {
   "cell_type": "code",
   "execution_count": 2,
   "metadata": {},
   "outputs": [],
   "source": [
    "import requests\n",
    "from bs4 import BeautifulSoup"
   ]
  },
  {
   "cell_type": "markdown",
   "metadata": {},
   "source": [
    "East Teams Scrape"
   ]
  },
  {
   "cell_type": "code",
   "execution_count": 3,
   "metadata": {},
   "outputs": [],
   "source": [
    "teamsListEast = [['Villanova', 'villanova'], ['Mount St. Marys', 'mount-st-marys'],\n",
    "             ['Wisconsin', 'wisconsin'], ['Virginia Tech', 'virginia-tech'],\n",
    "             ['UNC Wilmington', 'north-carolina-wilmington'], ['Florida', 'florida'],\n",
    "             ['ETSU', 'east-tennessee-state'], ['SMU', 'southern-methodist'],\n",
    "             ['USC', 'southern-california'], ['Baylor', 'baylor'],\n",
    "             ['New Mexico State', 'new-mexico-state'], ['South Carolina', 'south-carolina'],\n",
    "             ['Marquette', 'marquette'], ['Duke', 'duke'], ['Troy', 'troy']\n",
    "             ]"
   ]
  },
  {
   "cell_type": "code",
   "execution_count": 10,
   "metadata": {},
   "outputs": [],
   "source": [
    "def scrapeEast(lst):\n",
    "    for x in lst:\n",
    "        url = 'https://www.sports-reference.com/cbb/schools/{x[1]}/men/2017.html'\n",
    "        response = requests.get(url)\n",
    "        soup = BeautifulSoup(response.text, 'html.parser')\n",
    "        data = {\n",
    "            \"team\" : {\n",
    "                \"name\" : x[0],\n",
    "                \"conference\" : \"East\",\n",
    "                \"stats\" : {\n",
    "                    \"FG_PCT\" : soup.find('td', {'data-stat' : 'fg_pct'}).string,\n",
    "                    \"FG_2PCT\" : soup.find('td', {'data-stat' : 'fg2_pct'}).string,\n",
    "                    \"FG_3PCT\" : soup.find('td', {'data-stat' : 'fg3_pct'}).string,\n",
    "                    \"FT_PCT\" : soup.find('td', {'data-stat' : 'ft_pct'}).string,\n",
    "                    \"ORB\" : soup.find('td', {'data-stat' : 'orb_per_g'}).string,\n",
    "                    \"DRB\" : soup.find('td', {'data-stat' : 'drb_per_g'}).string,\n",
    "                    \"AST\" : soup.find('td', {'data-stat' : 'ast_per_g'}).string,\n",
    "                    \"STL\" : soup.find('td', {'data-stat' : 'stl_per_g'}).string,\n",
    "                    \"BLK\" : soup.find('td', {'data-stat' : 'blk_per_g'}).string,\n",
    "                    \"TOV\" : soup.find('td', {'data-stat' : 'tov_per_g'}).string,\n",
    "                    \"PF\" : soup.find('td', {'data-stat' : 'pf_per_g'}).string,\n",
    "                    \"PTS\" : soup.find('td', {'data-stat' : 'pts_per_g'}).string\n",
    "                },\n",
    "                \"games\" : {\n",
    "                    \"1\" : 1,\n",
    "                }\n",
    "            }\n",
    "\n",
    "        }\n"
   ]
  },
  {
   "cell_type": "code",
   "execution_count": 30,
   "metadata": {},
   "outputs": [
    {
     "name": "stdout",
     "output_type": "stream",
     "text": [
      "(#1 seed in East)\n"
     ]
    }
   ],
   "source": [
    "testURL = 'https://www.sports-reference.com/cbb/schools/villanova/men/2017.html'\n",
    "response = requests.get(testURL)\n",
    "testsoup = BeautifulSoup(response.text, 'html.parser')\n",
    "fg = testsoup.find('strong').find_next('br').previous_sibling.strip()\n",
    "print(fg)"
   ]
  }
 ],
 "metadata": {
  "kernelspec": {
   "display_name": "Python 3",
   "language": "python",
   "name": "python3"
  },
  "language_info": {
   "codemirror_mode": {
    "name": "ipython",
    "version": 3
   },
   "file_extension": ".py",
   "mimetype": "text/x-python",
   "name": "python",
   "nbconvert_exporter": "python",
   "pygments_lexer": "ipython3",
   "version": "3.10.6"
  }
 },
 "nbformat": 4,
 "nbformat_minor": 2
}
