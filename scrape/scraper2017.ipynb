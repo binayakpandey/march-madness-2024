{
 "cells": [
  {
   "cell_type": "code",
   "execution_count": 2,
   "metadata": {},
   "outputs": [],
   "source": [
    "import requests\n",
    "from bs4 import BeautifulSoup"
   ]
  },
  {
   "cell_type": "markdown",
   "metadata": {},
   "source": [
    "East Teams Scrape"
   ]
  },
  {
   "cell_type": "code",
   "execution_count": 3,
   "metadata": {},
   "outputs": [],
   "source": [
    "teamsListEast = [['Villanova', 'villanova'], ['Mount St. Marys', 'mount-st-marys'],\n",
    "             ['Wisconsin', 'wisconsin'], ['Virginia Tech', 'virginia-tech'],\n",
    "             ['UNC Wilmington', 'north-carolina-wilmington'], ['Florida', 'florida'],\n",
    "             ['ETSU', 'east-tennessee-state'], ['SMU', 'southern-methodist'],\n",
    "             ['USC', 'southern-california'], ['Baylor', 'baylor'],\n",
    "             ['New Mexico State', 'new-mexico-state'], ['South Carolina', 'south-carolina'],\n",
    "             ['Marquette', 'marquette'], ['Duke', 'duke'], ['Troy', 'troy']\n",
    "             ]"
   ]
  },
  {
   "cell_type": "code",
   "execution_count": 31,
   "metadata": {},
   "outputs": [],
   "source": [
    "import re\n",
    "def scrapeEast(lst):\n",
    "    for x in lst:\n",
    "        url = f'https://www.sports-reference.com/cbb/schools/{x[1]}/men/2017.html'\n",
    "        response = requests.get(url)\n",
    "        soup = BeautifulSoup(response.text, 'html.parser')\n",
    "        ncaa = soup.select('p:nth-child(13)') if 'NCAA Tournament' in soup.select_one('p:nth-child(13)').get_text() else soup.select('p:nth-child(12)')\n",
    "        ncaa_str = str(ncaa[0])\n",
    "        ncaa_clean = re.sub(r'<a href=\"/cbb/[^>]*\">', '', ncaa_str)\n",
    "        ncaa_clean = re.sub('</a>', '', ncaa_clean)\n",
    "        ncaa_clean = re.sub('</p>', '', ncaa_clean)\n",
    "        ncaa_clean = re.sub(r'\\n', '', ncaa_clean)\n",
    "        ncaa_lst = ncaa_clean.split(\"<br/>\")\n",
    "        for g in range(1, len(ncaa_lst)):\n",
    "            match = re.search(r'versus #\\d+ (.+)', ncaa_lst[g])\n",
    "            data = {\n",
    "                \"team\" : {\n",
    "                    \"name\" : x[0],\n",
    "                    \"conference\" : \"East\",\n",
    "                    \"seed\" : ncaa_str[ncaa_str.find('#') + 1],\n",
    "                    \"stats\" : {\n",
    "                        \"FG_PCT\" : soup.find('td', {'data-stat' : 'fg_pct'}).string,\n",
    "                        \"FG_2PCT\" : soup.find('td', {'data-stat' : 'fg2_pct'}).string,\n",
    "                        \"FG_3PCT\" : soup.find('td', {'data-stat' : 'fg3_pct'}).string,\n",
    "                        \"FT_PCT\" : soup.find('td', {'data-stat' : 'ft_pct'}).string,\n",
    "                        \"ORB\" : soup.find('td', {'data-stat' : 'orb_per_g'}).string,\n",
    "                        \"DRB\" : soup.find('td', {'data-stat' : 'drb_per_g'}).string,\n",
    "                        \"AST\" : soup.find('td', {'data-stat' : 'ast_per_g'}).string,\n",
    "                        \"STL\" : soup.find('td', {'data-stat' : 'stl_per_g'}).string,\n",
    "                        \"BLK\" : soup.find('td', {'data-stat' : 'blk_per_g'}).string,\n",
    "                        \"TOV\" : soup.find('td', {'data-stat' : 'tov_per_g'}).string,\n",
    "                        \"PF\" : soup.find('td', {'data-stat' : 'pf_per_g'}).string,\n",
    "                        \"PTS\" : soup.find('td', {'data-stat' : 'pts_per_g'}).string\n",
    "                    }\n",
    "                },\n",
    "                \"game\" : {\n",
    "                    \"game_number\" : g,\n",
    "                    \"result\" : ncaa_lst[g][0],\n",
    "                    \"opponent\" : match.group(1) if match else '',\n",
    "                    \"opponent_seed\" : ncaa_lst[g][ncaa_lst[g].find('#') + 1]\n",
    "                }\n",
    "            }\n"
   ]
  },
  {
   "cell_type": "code",
   "execution_count": 72,
   "metadata": {},
   "outputs": [],
   "source": [
    "testURL = 'https://www.sports-reference.com/cbb/schools/villanova/men/2017.html'\n",
    "response = requests.get(testURL)\n",
    "testsoup = BeautifulSoup(response.text, 'html.parser')\n",
    "game_elements = testsoup.select('p:nth-child(13)') if 'NCAA Tournament' in testsoup.select_one('p:nth-child(13)').get_text() else testsoup.select('p:nth-child(12)')\n",
    "\n"
   ]
  },
  {
   "cell_type": "code",
   "execution_count": 99,
   "metadata": {},
   "outputs": [
    {
     "name": "stdout",
     "output_type": "stream",
     "text": [
      "<p><strong>NCAA Tournament:</strong>(#1 seed in East)<br/>Won East First Round (76-56) versus #16 Mount St. Mary's<br/>Lost East Second Round (65-62) versus #8 Wisconsin\n"
     ]
    }
   ],
   "source": [
    "import re\n",
    "elements = str(game_elements[0])\n",
    "elements1 = re.sub(r'<a href=\"/cbb/[^>]*\">', '', elements)\n",
    "elements1 = re.sub('</a>', '', elements1)\n",
    "elements1 = re.sub('</p>', '', elements1)\n",
    "elements1 = re.sub(r'\\n', '', elements1)\n",
    "print(elements1)\n"
   ]
  },
  {
   "cell_type": "code",
   "execution_count": 100,
   "metadata": {},
   "outputs": [
    {
     "name": "stdout",
     "output_type": "stream",
     "text": [
      "['<p><strong>NCAA Tournament:</strong>(#1 seed in East)', \"Won East First Round (76-56) versus #16 Mount St. Mary's\", 'Lost East Second Round (65-62) versus #8 Wisconsin']\n"
     ]
    }
   ],
   "source": [
    "elements_lst = elements1.split(\"<br/>\")\n",
    "print(elements_lst)"
   ]
  },
  {
   "cell_type": "code",
   "execution_count": 101,
   "metadata": {},
   "outputs": [
    {
     "name": "stdout",
     "output_type": "stream",
     "text": [
      "Mount St. Mary's\n",
      "Wisconsin\n"
     ]
    }
   ],
   "source": [
    "for result in elements_lst:\n",
    "    # Extracting the team name using regular expression\n",
    "    match = re.search(r'versus #\\d+ (.+)', result)\n",
    "    \n",
    "    if match:\n",
    "        team_name = match.group(1)\n",
    "        print(team_name)"
   ]
  }
 ],
 "metadata": {
  "kernelspec": {
   "display_name": "Python 3",
   "language": "python",
   "name": "python3"
  },
  "language_info": {
   "codemirror_mode": {
    "name": "ipython",
    "version": 3
   },
   "file_extension": ".py",
   "mimetype": "text/x-python",
   "name": "python",
   "nbconvert_exporter": "python",
   "pygments_lexer": "ipython3",
   "version": "3.10.6"
  }
 },
 "nbformat": 4,
 "nbformat_minor": 2
}
