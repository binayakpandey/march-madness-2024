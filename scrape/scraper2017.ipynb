{
 "cells": [
  {
   "cell_type": "code",
   "execution_count": 2,
   "metadata": {},
   "outputs": [],
   "source": [
    "import requests\n",
    "from bs4 import BeautifulSoup"
   ]
  },
  {
   "cell_type": "markdown",
   "metadata": {},
   "source": [
    "East Teams Scrape"
   ]
  },
  {
   "cell_type": "code",
   "execution_count": 3,
   "metadata": {},
   "outputs": [],
   "source": [
    "teamsListEast = [['Villanova', 'villanova'], ['Mount St. Marys', 'mount-st-marys'],\n",
    "             ['Wisconsin', 'wisconsin'], ['Virginia Tech', 'virginia-tech'],\n",
    "             ['UNC Wilmington', 'north-carolina-wilmington'], ['Florida', 'florida'],\n",
    "             ['ETSU', 'east-tennessee-state'], ['SMU', 'southern-methodist'],\n",
    "             ['USC', 'southern-california'], ['Baylor', 'baylor'],\n",
    "             ['New Mexico State', 'new-mexico-state'], ['South Carolina', 'south-carolina'],\n",
    "             ['Marquette', 'marquette'], ['Duke', 'duke'], ['Troy', 'troy']\n",
    "             ]"
   ]
  },
  {
   "cell_type": "code",
   "execution_count": 31,
   "metadata": {},
   "outputs": [],
   "source": [
    "def scrapeEast(lst):\n",
    "    for x in lst:\n",
    "        url = f'https://www.sports-reference.com/cbb/schools/{x[1]}/men/2017.html'\n",
    "        response = requests.get(url)\n",
    "        soup = BeautifulSoup(response.text, 'html.parser')\n",
    "        ncaa = soup.select('p:nth-child(13)') if 'NCAA Tournament' in soup.select_one('p:nth-child(13)').get_text() else soup.select('p:nth-child(12)')\n",
    "        ncaa_str = str(ncaa[0])\n",
    "        data = {\n",
    "            \"team\" : {\n",
    "                \"name\" : x[0],\n",
    "                \"conference\" : \"East\",\n",
    "                \"seed\" : ncaa_str[ncaa_str.find('#') + 1],\n",
    "                \"stats\" : {\n",
    "                    \"FG_PCT\" : soup.find('td', {'data-stat' : 'fg_pct'}).string,\n",
    "                    \"FG_2PCT\" : soup.find('td', {'data-stat' : 'fg2_pct'}).string,\n",
    "                    \"FG_3PCT\" : soup.find('td', {'data-stat' : 'fg3_pct'}).string,\n",
    "                    \"FT_PCT\" : soup.find('td', {'data-stat' : 'ft_pct'}).string,\n",
    "                    \"ORB\" : soup.find('td', {'data-stat' : 'orb_per_g'}).string,\n",
    "                    \"DRB\" : soup.find('td', {'data-stat' : 'drb_per_g'}).string,\n",
    "                    \"AST\" : soup.find('td', {'data-stat' : 'ast_per_g'}).string,\n",
    "                    \"STL\" : soup.find('td', {'data-stat' : 'stl_per_g'}).string,\n",
    "                    \"BLK\" : soup.find('td', {'data-stat' : 'blk_per_g'}).string,\n",
    "                    \"TOV\" : soup.find('td', {'data-stat' : 'tov_per_g'}).string,\n",
    "                    \"PF\" : soup.find('td', {'data-stat' : 'pf_per_g'}).string,\n",
    "                    \"PTS\" : soup.find('td', {'data-stat' : 'pts_per_g'}).string\n",
    "                },\n",
    "                \"games\" : {\n",
    "                    \"\",\n",
    "                }\n",
    "            }\n",
    "\n",
    "        }\n"
   ]
  },
  {
   "cell_type": "code",
   "execution_count": 72,
   "metadata": {},
   "outputs": [],
   "source": [
    "testURL = 'https://www.sports-reference.com/cbb/schools/villanova/men/2017.html'\n",
    "response = requests.get(testURL)\n",
    "testsoup = BeautifulSoup(response.text, 'html.parser')\n",
    "game_elements = testsoup.select('p:nth-child(13)') if 'NCAA Tournament' in testsoup.select_one('p:nth-child(13)').get_text() else testsoup.select('p:nth-child(12)')\n",
    "\n"
   ]
  },
  {
   "cell_type": "code",
   "execution_count": 85,
   "metadata": {},
   "outputs": [
    {
     "name": "stdout",
     "output_type": "stream",
     "text": [
      "<p>\n",
      "<strong><a href=\"/cbb/postseason/men/2017-ncaa.html\">NCAA Tournament</a>:</strong>\n",
      "(#1 seed in East)<br/>Won East First Round (<a href=\"/cbb/boxscores/2017-03-16-villanova.html\">76-56</a>) versus #16 <a href=\"/cbb/schools/mount-st-marys/men/2017.html\">Mount St. Mary's</a>\n",
      "<br/>Lost East Second Round (<a href=\"/cbb/boxscores/2017-03-18-villanova.html\">65-62</a>) versus #8 <a href=\"/cbb/schools/wisconsin/men/2017.html\">Wisconsin</a>\n",
      "</p>\n"
     ]
    }
   ],
   "source": [
    "elements = str(game_elements[0])\n",
    "print(elements)\n"
   ]
  },
  {
   "cell_type": "code",
   "execution_count": null,
   "metadata": {},
   "outputs": [],
   "source": []
  }
 ],
 "metadata": {
  "kernelspec": {
   "display_name": "Python 3",
   "language": "python",
   "name": "python3"
  },
  "language_info": {
   "codemirror_mode": {
    "name": "ipython",
    "version": 3
   },
   "file_extension": ".py",
   "mimetype": "text/x-python",
   "name": "python",
   "nbconvert_exporter": "python",
   "pygments_lexer": "ipython3",
   "version": "3.10.6"
  }
 },
 "nbformat": 4,
 "nbformat_minor": 2
}
