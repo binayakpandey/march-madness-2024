{
 "cells": [
  {
   "cell_type": "code",
   "execution_count": 2,
   "metadata": {},
   "outputs": [],
   "source": [
    "import requests\n",
    "from bs4 import BeautifulSoup"
   ]
  },
  {
   "cell_type": "markdown",
   "metadata": {},
   "source": [
    "East Teams Scrape"
   ]
  },
  {
   "cell_type": "code",
   "execution_count": 3,
   "metadata": {},
   "outputs": [],
   "source": [
    "teamsListEast = [['Villanova', 'villanova'], ['Mount St. Marys', 'mount-st-marys'],\n",
    "             ['Wisconsin', 'wisconsin'], ['Virginia Tech', 'virginia-tech'],\n",
    "             ['UNC Wilmington', 'north-carolina-wilmington'], ['Florida', 'florida'],\n",
    "             ['ETSU', 'east-tennessee-state'], ['SMU', 'southern-methodist'],\n",
    "             ['USC', 'southern-california'], ['Baylor', 'baylor'],\n",
    "             ['New Mexico State', 'new-mexico-state'], ['South Carolina', 'south-carolina'],\n",
    "             ['Marquette', 'marquette'], ['Duke', 'duke'], ['Troy', 'troy']\n",
    "             ]"
   ]
  },
  {
   "cell_type": "code",
   "execution_count": 4,
   "metadata": {},
   "outputs": [],
   "source": [
    "def scrapeEast(lst):\n",
    "    for x in lst:\n",
    "        url = 'https://www.sports-reference.com/cbb/schools/{x[1]}/men/2017.html'\n",
    "        response = requests.get(url)\n",
    "        soup = BeautifulSoup(response.text, 'html.parser')\n",
    "        data = {\n",
    "            \"team\" : {\n",
    "                \"name\" : x[0],\n",
    "                \"conference\" : \"East\"\n",
    "            }\n",
    "        }\n"
   ]
  }
 ],
 "metadata": {
  "kernelspec": {
   "display_name": "Python 3",
   "language": "python",
   "name": "python3"
  },
  "language_info": {
   "codemirror_mode": {
    "name": "ipython",
    "version": 3
   },
   "file_extension": ".py",
   "mimetype": "text/x-python",
   "name": "python",
   "nbconvert_exporter": "python",
   "pygments_lexer": "ipython3",
   "version": "3.10.6"
  }
 },
 "nbformat": 4,
 "nbformat_minor": 2
}
